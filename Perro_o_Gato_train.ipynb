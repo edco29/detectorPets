{
  "nbformat": 4,
  "nbformat_minor": 0,
  "metadata": {
    "kernelspec": {
      "display_name": "Python 3",
      "language": "python",
      "name": "python3"
    },
    "language_info": {
      "codemirror_mode": {
        "name": "ipython",
        "version": 3
      },
      "file_extension": ".py",
      "mimetype": "text/x-python",
      "name": "python",
      "nbconvert_exporter": "python",
      "pygments_lexer": "ipython3",
      "version": "3.7.7"
    },
    "colab": {
      "name": "Perro_o_Gato_train.ipynb",
      "provenance": [],
      "include_colab_link": true
    }
  },
  "cells": [
    {
      "cell_type": "markdown",
      "metadata": {
        "id": "view-in-github",
        "colab_type": "text"
      },
      "source": [
        "<a href=\"https://colab.research.google.com/github/edco29/detectorPets/blob/master/Perro_o_Gato_train.ipynb\" target=\"_parent\"><img src=\"https://colab.research.google.com/assets/colab-badge.svg\" alt=\"Open In Colab\"/></a>"
      ]
    },
    {
      "cell_type": "code",
      "metadata": {
        "id": "FdM-DThJTr7R",
        "colab_type": "code",
        "colab": {}
      },
      "source": [
        "import numpy as np\n",
        "import pandas as pd\n",
        "import os\n",
        "\n",
        "import matplotlib.pyplot as plt\n",
        "from PIL import Image\n",
        "\n",
        "from sklearn.model_selection import train_test_split\n",
        "\n",
        "import tensorflow as tf\n",
        "print(tf.__version__)"
      ],
      "execution_count": 0,
      "outputs": []
    },
    {
      "cell_type": "code",
      "metadata": {
        "id": "7imyJIhzVSTq",
        "colab_type": "code",
        "colab": {
          "base_uri": "https://localhost:8080/",
          "height": 34
        },
        "outputId": "4df52f25-4aec-41cf-f09f-c4255695b1f7"
      },
      "source": [
        "!mkdir train"
      ],
      "execution_count": 4,
      "outputs": [
        {
          "output_type": "stream",
          "text": [
            "mkdir: cannot create directory ‘train’: File exists\n"
          ],
          "name": "stdout"
        }
      ]
    },
    {
      "cell_type": "code",
      "metadata": {
        "id": "hIFJf0z2Tr7c",
        "colab_type": "code",
        "colab": {},
        "outputId": "3ee0cd6d-2f85-40f1-cd8b-5b2ad5c8d123"
      },
      "source": [
        "# preparing data\n",
        "\n",
        "TRAIN_DIR = \"train\"\n",
        "TEST_DIR = \"test1\"\n",
        "\n",
        "TRAIN_SIZE = len([name for name in os.listdir(TRAIN_DIR)])\n",
        "TEST_SIZE = len([name for name in os.listdir(TEST_DIR)])\n",
        "print(\"Number of training images:\", TRAIN_SIZE)\n",
        "print(\"Number of test images:\", TEST_SIZE)\n",
        "\n",
        "VALID_FRACTION = 0.2\n",
        "BATCH_SIZE = 100\n",
        "EPOCHS = 50\n",
        "\n",
        "IMAGE_WIDTH = IMAGE_HEIGHT = 150\n",
        "\n",
        "# creating df with train labels\n",
        "train_filenames = os.listdir(TRAIN_DIR)\n",
        "train_labels = []\n",
        "for filename in train_filenames:\n",
        "    label = filename.split('.')[0]\n",
        "    train_labels.append(label)\n",
        "\n",
        "train_df = pd.DataFrame({\n",
        "    'id': train_filenames,\n",
        "    'label': train_labels\n",
        "})\n",
        "\n",
        "# splitting to train & valid\n",
        "train_df, valid_df = train_test_split(train_df, test_size=VALID_FRACTION)\n",
        "\n",
        "# augmentation settings, for now just normalizing\n",
        "train_datagen = tf.keras.preprocessing.image.ImageDataGenerator(    \n",
        "    rotation_range=40,\n",
        "    width_shift_range=0.2,\n",
        "    height_shift_range=0.2,\n",
        "    rescale=1./255.,\n",
        "    shear_range=0.2,\n",
        "    zoom_range=0.2,\n",
        "    horizontal_flip=True,\n",
        "    fill_mode='nearest'\n",
        "    )\n",
        "\n",
        "# not doing any data augmentation on validation test set\n",
        "valid_datagen  = tf.keras.preprocessing.image.ImageDataGenerator(rescale=1./255.)\n",
        "\n",
        "# creating train and valid generators (not using valid_split to avoid doing data augmentation on validation set)\n",
        "train_generator = train_datagen.flow_from_dataframe(\n",
        "    train_df, \n",
        "    TRAIN_DIR, \n",
        "    x_col='id',\n",
        "    y_col='label',\n",
        "    target_size=(IMAGE_WIDTH, IMAGE_HEIGHT),\n",
        "    class_mode='binary',\n",
        "    batch_size=BATCH_SIZE\n",
        ")\n",
        "\n",
        "valid_generator = valid_datagen.flow_from_dataframe(\n",
        "    valid_df, \n",
        "    TRAIN_DIR, \n",
        "    x_col='id',\n",
        "    y_col='label',\n",
        "    target_size=(IMAGE_WIDTH, IMAGE_HEIGHT),\n",
        "    class_mode='binary',\n",
        "    batch_size=BATCH_SIZE\n",
        ")"
      ],
      "execution_count": 0,
      "outputs": [
        {
          "output_type": "stream",
          "text": [
            "Number of training images: 25000\n",
            "Number of test images: 12500\n",
            "Found 20000 validated image filenames belonging to 2 classes.\n",
            "Found 5000 validated image filenames belonging to 2 classes.\n"
          ],
          "name": "stdout"
        }
      ]
    },
    {
      "cell_type": "code",
      "metadata": {
        "id": "GWUnPBDjTr7m",
        "colab_type": "code",
        "colab": {},
        "outputId": "69b57597-15f5-44a6-cbcd-98c05a6e532a"
      },
      "source": [
        "model = tf.keras.models.Sequential([\n",
        "    # the images were resized by ImageDataGenerator 150x150 with 3 bytes color\n",
        "    tf.keras.layers.Conv2D(32, (3,3), activation='relu', input_shape=(IMAGE_WIDTH, IMAGE_HEIGHT, 3)),\n",
        "    tf.keras.layers.MaxPooling2D(2,2),\n",
        "    tf.keras.layers.Conv2D(64, (3,3), activation='relu'),\n",
        "    tf.keras.layers.MaxPooling2D(2,2), \n",
        "    tf.keras.layers.Conv2D(128, (3,3), activation='relu'), \n",
        "    tf.keras.layers.MaxPooling2D(2,2),\n",
        "    tf.keras.layers.Conv2D(128, (3,3), activation='relu'), \n",
        "    tf.keras.layers.MaxPooling2D(2,2),\n",
        "    tf.keras.layers.Dropout(0.5),\n",
        "    tf.keras.layers.Flatten(), \n",
        "    # 512 neuron hidden layer\n",
        "    tf.keras.layers.Dense(512, activation='relu'),\n",
        "    # since we have only 2 classes to predict we can use 1 neuron and sigmoid\n",
        "    tf.keras.layers.Dense(1, activation='sigmoid')  \n",
        "])\n",
        "\n",
        "model.summary()\n",
        "\n",
        "model.compile(optimizer=tf.keras.optimizers.RMSprop(lr=0.001),\n",
        "    loss='binary_crossentropy',\n",
        "    metrics = ['accuracy'])\n",
        "\n",
        "es = tf.keras.callbacks.EarlyStopping(monitor='val_loss',\n",
        "    mode='min',\n",
        "    restore_best_weights=True, \n",
        "    verbose=1,\n",
        "    patience=5)"
      ],
      "execution_count": 0,
      "outputs": [
        {
          "output_type": "stream",
          "text": [
            "Model: \"sequential\"\n",
            "_________________________________________________________________\n",
            "Layer (type)                 Output Shape              Param #   \n",
            "=================================================================\n",
            "conv2d (Conv2D)              (None, 148, 148, 32)      896       \n",
            "_________________________________________________________________\n",
            "max_pooling2d (MaxPooling2D) (None, 74, 74, 32)        0         \n",
            "_________________________________________________________________\n",
            "conv2d_1 (Conv2D)            (None, 72, 72, 64)        18496     \n",
            "_________________________________________________________________\n",
            "max_pooling2d_1 (MaxPooling2 (None, 36, 36, 64)        0         \n",
            "_________________________________________________________________\n",
            "conv2d_2 (Conv2D)            (None, 34, 34, 128)       73856     \n",
            "_________________________________________________________________\n",
            "max_pooling2d_2 (MaxPooling2 (None, 17, 17, 128)       0         \n",
            "_________________________________________________________________\n",
            "conv2d_3 (Conv2D)            (None, 15, 15, 128)       147584    \n",
            "_________________________________________________________________\n",
            "max_pooling2d_3 (MaxPooling2 (None, 7, 7, 128)         0         \n",
            "_________________________________________________________________\n",
            "dropout (Dropout)            (None, 7, 7, 128)         0         \n",
            "_________________________________________________________________\n",
            "flatten (Flatten)            (None, 6272)              0         \n",
            "_________________________________________________________________\n",
            "dense (Dense)                (None, 512)               3211776   \n",
            "_________________________________________________________________\n",
            "dense_1 (Dense)              (None, 1)                 513       \n",
            "=================================================================\n",
            "Total params: 3,453,121\n",
            "Trainable params: 3,453,121\n",
            "Non-trainable params: 0\n",
            "_________________________________________________________________\n"
          ],
          "name": "stdout"
        }
      ]
    },
    {
      "cell_type": "code",
      "metadata": {
        "id": "9_XeZ6ifTr7u",
        "colab_type": "code",
        "colab": {},
        "outputId": "5d938efb-6f9b-4a28-e20b-b1d937458cc2"
      },
      "source": [
        "tf.keras.utils.plot_model(model)"
      ],
      "execution_count": 0,
      "outputs": [
        {
          "output_type": "execute_result",
          "data": {
            "image/png": "[encoded data removed]",
            "text/plain": [
              "<IPython.core.display.Image object>"
            ]
          },
          "metadata": {
            "tags": []
          },
          "execution_count": 4
        }
      ]
    },
    {
      "cell_type": "code",
      "metadata": {
        "scrolled": false,
        "id": "lHvtabFETr7z",
        "colab_type": "code",
        "colab": {},
        "outputId": "bdd3c0cb-7a33-4847-bdf5-804d3f0c9763"
      },
      "source": [
        "%%time\n",
        "\n",
        "# training\n",
        "history = model.fit_generator(train_generator,\n",
        "    validation_data=valid_generator,\n",
        "    steps_per_epoch=round(TRAIN_SIZE*(1.-VALID_FRACTION)/BATCH_SIZE),\n",
        "    validation_steps=round(TRAIN_SIZE*VALID_FRACTION/BATCH_SIZE),\n",
        "    epochs=EPOCHS,\n",
        "    callbacks=[es],\n",
        "    verbose=1)"
      ],
      "execution_count": 0,
      "outputs": [
        {
          "output_type": "stream",
          "text": [
            "WARNING:tensorflow:From <timed exec>:8: Model.fit_generator (from tensorflow.python.keras.engine.training) is deprecated and will be removed in a future version.\n",
            "Instructions for updating:\n",
            "Please use Model.fit, which supports generators.\n",
            "WARNING:tensorflow:sample_weight modes were coerced from\n",
            "  ...\n",
            "    to  \n",
            "  ['...']\n",
            "WARNING:tensorflow:sample_weight modes were coerced from\n",
            "  ...\n",
            "    to  \n",
            "  ['...']\n",
            "Train for 200 steps, validate for 50 steps\n",
            "Epoch 1/50\n",
            "200/200 [==============================] - 617s 3s/step - loss: 0.6978 - accuracy: 0.5588 - val_loss: 0.6457 - val_accuracy: 0.6090\n",
            "Epoch 2/50\n",
            "200/200 [==============================] - 254s 1s/step - loss: 0.6389 - accuracy: 0.6366 - val_loss: 0.5795 - val_accuracy: 0.6990\n",
            "Epoch 3/50\n",
            "200/200 [==============================] - 157s 783ms/step - loss: 0.6052 - accuracy: 0.6748 - val_loss: 0.5332 - val_accuracy: 0.7324\n",
            "Epoch 4/50\n",
            "200/200 [==============================] - 150s 751ms/step - loss: 0.5747 - accuracy: 0.7010 - val_loss: 0.5232 - val_accuracy: 0.7436\n",
            "Epoch 5/50\n",
            "200/200 [==============================] - 196s 982ms/step - loss: 0.5530 - accuracy: 0.7235 - val_loss: 0.5802 - val_accuracy: 0.6968\n",
            "Epoch 6/50\n",
            "200/200 [==============================] - 137s 687ms/step - loss: 0.5316 - accuracy: 0.7388 - val_loss: 0.4266 - val_accuracy: 0.8102\n",
            "Epoch 7/50\n",
            "200/200 [==============================] - 139s 697ms/step - loss: 0.5093 - accuracy: 0.7513 - val_loss: 0.4070 - val_accuracy: 0.8144\n",
            "Epoch 8/50\n",
            "200/200 [==============================] - 140s 698ms/step - loss: 0.4934 - accuracy: 0.7651 - val_loss: 0.4328 - val_accuracy: 0.8196\n",
            "Epoch 9/50\n",
            "200/200 [==============================] - 143s 715ms/step - loss: 0.4720 - accuracy: 0.7808 - val_loss: 0.4793 - val_accuracy: 0.7764\n",
            "Epoch 10/50\n",
            "200/200 [==============================] - 143s 716ms/step - loss: 0.4691 - accuracy: 0.7842 - val_loss: 0.4451 - val_accuracy: 0.7982\n",
            "Epoch 11/50\n",
            "200/200 [==============================] - 148s 741ms/step - loss: 0.4409 - accuracy: 0.8016 - val_loss: 0.3403 - val_accuracy: 0.8584\n",
            "Epoch 12/50\n",
            "200/200 [==============================] - 141s 706ms/step - loss: 0.4238 - accuracy: 0.8062 - val_loss: 0.3710 - val_accuracy: 0.8346\n",
            "Epoch 13/50\n",
            "200/200 [==============================] - 144s 718ms/step - loss: 0.4066 - accuracy: 0.8158 - val_loss: 0.3092 - val_accuracy: 0.8744\n",
            "Epoch 14/50\n",
            "200/200 [==============================] - 138s 689ms/step - loss: 0.3971 - accuracy: 0.8225 - val_loss: 0.3100 - val_accuracy: 0.8622\n",
            "Epoch 15/50\n",
            "200/200 [==============================] - 136s 682ms/step - loss: 0.3863 - accuracy: 0.8283 - val_loss: 0.2961 - val_accuracy: 0.8794\n",
            "Epoch 16/50\n",
            "200/200 [==============================] - 136s 679ms/step - loss: 0.3742 - accuracy: 0.8342 - val_loss: 0.3095 - val_accuracy: 0.8662\n",
            "Epoch 17/50\n",
            "200/200 [==============================] - 137s 684ms/step - loss: 0.3668 - accuracy: 0.8388 - val_loss: 0.2705 - val_accuracy: 0.8844\n",
            "Epoch 18/50\n",
            "200/200 [==============================] - 137s 685ms/step - loss: 0.3581 - accuracy: 0.8416 - val_loss: 0.2468 - val_accuracy: 0.9000\n",
            "Epoch 19/50\n",
            "200/200 [==============================] - 138s 688ms/step - loss: 0.3456 - accuracy: 0.8495 - val_loss: 0.3249 - val_accuracy: 0.8816\n",
            "Epoch 20/50\n",
            "200/200 [==============================] - 139s 694ms/step - loss: 0.3396 - accuracy: 0.8505 - val_loss: 0.3514 - val_accuracy: 0.8698\n",
            "Epoch 21/50\n",
            "200/200 [==============================] - 139s 696ms/step - loss: 0.3364 - accuracy: 0.8543 - val_loss: 0.2258 - val_accuracy: 0.9084\n",
            "Epoch 22/50\n",
            "200/200 [==============================] - 138s 691ms/step - loss: 0.3254 - accuracy: 0.8573 - val_loss: 0.2328 - val_accuracy: 0.9030\n",
            "Epoch 23/50\n",
            "200/200 [==============================] - 138s 690ms/step - loss: 0.3205 - accuracy: 0.8632 - val_loss: 0.2292 - val_accuracy: 0.9090\n",
            "Epoch 24/50\n",
            "200/200 [==============================] - 138s 692ms/step - loss: 0.3174 - accuracy: 0.8658 - val_loss: 0.2422 - val_accuracy: 0.9056\n",
            "Epoch 25/50\n",
            "200/200 [==============================] - 138s 692ms/step - loss: 0.3094 - accuracy: 0.8680 - val_loss: 0.2071 - val_accuracy: 0.9170\n",
            "Epoch 26/50\n",
            "200/200 [==============================] - 140s 699ms/step - loss: 0.3072 - accuracy: 0.8678 - val_loss: 0.1991 - val_accuracy: 0.9208\n",
            "Epoch 27/50\n",
            "200/200 [==============================] - 139s 697ms/step - loss: 0.3049 - accuracy: 0.8706 - val_loss: 0.2169 - val_accuracy: 0.9142\n",
            "Epoch 28/50\n",
            "200/200 [==============================] - 139s 697ms/step - loss: 0.3021 - accuracy: 0.8712 - val_loss: 0.3571 - val_accuracy: 0.9052\n",
            "Epoch 29/50\n",
            "200/200 [==============================] - 139s 695ms/step - loss: 0.2990 - accuracy: 0.8731 - val_loss: 0.2032 - val_accuracy: 0.9178\n",
            "Epoch 30/50\n",
            "200/200 [==============================] - 139s 696ms/step - loss: 0.2992 - accuracy: 0.8717 - val_loss: 0.2373 - val_accuracy: 0.9082\n",
            "Epoch 31/50\n",
            "199/200 [============================>.] - ETA: 0s - loss: 0.2970 - accuracy: 0.8753Restoring model weights from the end of the best epoch.\n",
            "200/200 [==============================] - 140s 699ms/step - loss: 0.2973 - accuracy: 0.8752 - val_loss: 0.2306 - val_accuracy: 0.9148\n",
            "Epoch 00031: early stopping\n",
            "Wall time: 1h 23min 24s\n"
          ],
          "name": "stdout"
        }
      ]
    },
    {
      "cell_type": "code",
      "metadata": {
        "id": "X9btC_4DTr74",
        "colab_type": "code",
        "colab": {}
      },
      "source": [
        "model.save('modelo_cvsd.h5')\n",
        "model.save_weights('modelo_pesos_cvsd.h5')\n"
      ],
      "execution_count": 0,
      "outputs": []
    },
    {
      "cell_type": "code",
      "metadata": {
        "id": "c3udArn7Tr78",
        "colab_type": "code",
        "colab": {},
        "outputId": "3926e110-dfdf-4e5c-bbbc-ae6768985fab"
      },
      "source": [
        "#plotting\n",
        "\n",
        "import matplotlib.pyplot as plt\n",
        "\n",
        "#-----------------------------------------------------------\n",
        "# Retrieve a list of list results on training and test data\n",
        "# sets for each training epoch\n",
        "#-----------------------------------------------------------\n",
        "acc = history.history['accuracy']\n",
        "val_acc = history.history[ 'val_accuracy']\n",
        "loss = history.history['loss']\n",
        "val_loss = history.history['val_loss']\n",
        "\n",
        "epochs   = range(len(acc)) # Get number of epochs\n",
        "\n",
        "#------------------------------------------------\n",
        "# Plot training and validation accuracy per epoch\n",
        "#------------------------------------------------\n",
        "plt.plot(epochs, acc)\n",
        "plt.plot(epochs, val_acc)\n",
        "plt.title('Training and validation accuracy')\n",
        "plt.figure()\n",
        "\n",
        "#------------------------------------------------\n",
        "# Plot training and validation loss per epoch\n",
        "#------------------------------------------------\n",
        "plt.plot(epochs, loss)\n",
        "plt.plot(epochs, val_loss)\n",
        "plt.title('Training and validation loss')"
      ],
      "execution_count": 0,
      "outputs": [
        {
          "output_type": "execute_result",
          "data": {
            "text/plain": [
              "Text(0.5, 1.0, 'Training and validation loss')"
            ]
          },
          "metadata": {
            "tags": []
          },
          "execution_count": 7
        },
        {
          "output_type": "display_data",
          "data": {
            "image/png": "[encoded data removed]",
            "text/plain": [
              "<Figure size 432x288 with 1 Axes>"
            ]
          },
          "metadata": {
            "tags": [],
            "needs_background": "light"
          }
        },
        {
          "output_type": "display_data",
          "data": {
            "image/png": "[encoded data removed]",
            "text/plain": [
              "<Figure size 432x288 with 1 Axes>"
            ]
          },
          "metadata": {
            "tags": [],
            "needs_background": "light"
          }
        }
      ]
    },
    {
      "cell_type": "code",
      "metadata": {
        "id": "QyVVK9c2Tr8I",
        "colab_type": "code",
        "colab": {}
      },
      "source": [
        "model.save('modelo_perro_gato.h5')\n",
        "model.save_weights('modelo_pesos_cvsd.h5')"
      ],
      "execution_count": 0,
      "outputs": []
    },
    {
      "cell_type": "code",
      "metadata": {
        "id": "4AA_5OYCTr8N",
        "colab_type": "code",
        "colab": {}
      },
      "source": [
        ""
      ],
      "execution_count": 0,
      "outputs": []
    }
  ]
}